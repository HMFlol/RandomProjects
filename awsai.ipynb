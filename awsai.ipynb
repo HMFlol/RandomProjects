{
 "cells": [
  {
   "cell_type": "code",
   "execution_count": 114,
   "metadata": {},
   "outputs": [],
   "source": [
    "import boto3\n",
    "import json"
   ]
  },
  {
   "cell_type": "code",
   "execution_count": 115,
   "metadata": {},
   "outputs": [],
   "source": [
    "boto3.setup_default_session(profile_name='ryne_bedrock_test')"
   ]
  },
  {
   "cell_type": "code",
   "execution_count": 116,
   "metadata": {},
   "outputs": [],
   "source": [
    "bedrock_runtime = boto3.client(\n",
    "    service_name='bedrock-runtime',\n",
    "    region_name='us-east-1'\n",
    ")"
   ]
  },
  {
   "cell_type": "code",
   "execution_count": 117,
   "metadata": {},
   "outputs": [],
   "source": [
    "prompt = \"What is the capital city of Quebec?\""
   ]
  },
  {
   "cell_type": "code",
   "execution_count": 118,
   "metadata": {},
   "outputs": [
    {
     "name": "stdout",
     "output_type": "stream",
     "text": [
      "{'modelId': 'amazon.titan-text-lite-v1', 'contentType': 'application/json', 'accept': 'application/json', 'body': '{\"inputText\":\"What is the capital city of Canada?\",\"textGenerationConfig\":{\"maxTokenCount\":4096,\"stopSequences\":[],\"temperature\":0,\"topP\":1}}'}\n"
     ]
    }
   ],
   "source": [
    "kwargs = {\n",
    "    \"modelId\": \"amazon.titan-text-lite-v1\",\n",
    "    \"contentType\": \"application/json\",\n",
    "    \"accept\": \"application/json\",\n",
    "    \"body\": \"{\\\"inputText\\\":\\\"\" + prompt + \"\\\",\\\"textGenerationConfig\\\":{\\\"maxTokenCount\\\":4096,\\\"stopSequences\\\":[],\\\"temperature\\\":0,\\\"topP\\\":1}}\"\n",
    "}\n",
    "\n",
    "print(kwargs)\n"
   ]
  },
  {
   "cell_type": "code",
   "execution_count": 119,
   "metadata": {},
   "outputs": [
    {
     "data": {
      "text/plain": [
       "{'ResponseMetadata': {'RequestId': 'e18f5e28-1cb2-4f36-9abb-8970b4ca8171',\n",
       "  'HTTPStatusCode': 200,\n",
       "  'HTTPHeaders': {'date': 'Tue, 04 Jun 2024 19:37:04 GMT',\n",
       "   'content-type': 'application/json',\n",
       "   'content-length': '478',\n",
       "   'connection': 'keep-alive',\n",
       "   'x-amzn-requestid': 'e18f5e28-1cb2-4f36-9abb-8970b4ca8171',\n",
       "   'x-amzn-bedrock-invocation-latency': '2786',\n",
       "   'x-amzn-bedrock-output-token-count': '83',\n",
       "   'x-amzn-bedrock-input-token-count': '8'},\n",
       "  'RetryAttempts': 0},\n",
       " 'contentType': 'application/json',\n",
       " 'body': <botocore.response.StreamingBody at 0x1af6e6b7fa0>}"
      ]
     },
     "execution_count": 119,
     "metadata": {},
     "output_type": "execute_result"
    }
   ],
   "source": [
    "response = bedrock_runtime.invoke_model(**kwargs)\n",
    "\n",
    "response"
   ]
  },
  {
   "cell_type": "code",
   "execution_count": 120,
   "metadata": {},
   "outputs": [
    {
     "data": {
      "text/plain": [
       "{'inputTextTokenCount': 8,\n",
       " 'results': [{'tokenCount': 83,\n",
       "   'outputText': \"\\nOttawa is the capital city of Canada. Canada is a country located in the northern part of North America. It is the world's second-largest country by area. Ottawa is the fourth-largest city in Canada. It is located on the south bank of the Ottawa River, which flows into the St. Lawrence River. Ottawa is a bilingual city, with both English and French being official languages. \",\n",
       "   'completionReason': 'FINISH'}]}"
      ]
     },
     "execution_count": 120,
     "metadata": {},
     "output_type": "execute_result"
    }
   ],
   "source": [
    "response_body = json.loads(response.get('body').read())\n",
    "\n",
    "response_body"
   ]
  },
  {
   "cell_type": "code",
   "execution_count": 121,
   "metadata": {},
   "outputs": [
    {
     "data": {
      "text/plain": [
       "\"\\nOttawa is the capital city of Canada. Canada is a country located in the northern part of North America. It is the world's second-largest country by area. Ottawa is the fourth-largest city in Canada. It is located on the south bank of the Ottawa River, which flows into the St. Lawrence River. Ottawa is a bilingual city, with both English and French being official languages. \""
      ]
     },
     "execution_count": 121,
     "metadata": {},
     "output_type": "execute_result"
    }
   ],
   "source": [
    "# Get the first result from the 'results' list\n",
    "first_result = response_body['results'][0]\n",
    "\n",
    "# Extract 'outputText' from the first result\n",
    "completion = first_result['outputText']\n",
    "\n",
    "completion"
   ]
  }
 ],
 "metadata": {
  "kernelspec": {
   "display_name": "Python 3",
   "language": "python",
   "name": "python3"
  },
  "language_info": {
   "codemirror_mode": {
    "name": "ipython",
    "version": 3
   },
   "file_extension": ".py",
   "mimetype": "text/x-python",
   "name": "python",
   "nbconvert_exporter": "python",
   "pygments_lexer": "ipython3",
   "version": "3.11.2"
  }
 },
 "nbformat": 4,
 "nbformat_minor": 2
}
